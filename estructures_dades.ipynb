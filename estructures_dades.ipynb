{
 "cells": [
  {
   "cell_type": "markdown",
   "id": "d19e4639",
   "metadata": {},
   "source": [
    "# Tasca 2: Estructura de dades"
   ]
  },
  {
   "cell_type": "markdown",
   "id": "3f492c2a",
   "metadata": {},
   "source": [
    "### Exercici 1: Crea una llista que agrupi els mesos de l’any en trimestres (1T: Gener, Febrer i Març, 2T: Abril, Maig, Juny...), és a dir, una llista amb 4 llistes dins."
   ]
  },
  {
   "cell_type": "code",
   "execution_count": 10,
   "id": "562f9be9",
   "metadata": {},
   "outputs": [
    {
     "name": "stdout",
     "output_type": "stream",
     "text": [
      "['January', 'February', 'March', 'April', 'May', 'June', 'July', 'August', 'September', 'October', 'November', 'December']\n"
     ]
    }
   ],
   "source": [
    "year_months = [\"January\", \"February\", \"March\", \"April\", \"May\", \"June\", \"July\", \"August\", \"September\", \"October\", \"November\", \"December\"]\n",
    "print(year_months)"
   ]
  },
  {
   "cell_type": "code",
   "execution_count": 15,
   "id": "5c44b0b0",
   "metadata": {},
   "outputs": [
    {
     "name": "stdout",
     "output_type": "stream",
     "text": [
      "[['January', 'February', 'March'], ['April', 'May', 'June'], ['July', 'August', 'September'], ['October', 'November', 'December']]\n"
     ]
    }
   ],
   "source": [
    "Quarter1= year_months[0:3]\n",
    "Quarter2= year_months[3:6]\n",
    "Quarter3= year_months[6:9]\n",
    "Quarter4= year_months[9:]\n",
    "a_whole_year= [Quarter1, Quarter2, Quarter3, Quarter4]\n",
    "print(a_whole_year)"
   ]
  },
  {
   "cell_type": "markdown",
   "id": "b5e92575",
   "metadata": {},
   "source": [
    "### Exercici 2: Crea un codi que et permeti accedir a:\n",
    "\n",
    "- El segon mes del primer trimestre\n",
    "- Els mesos del primer trimestre\n",
    "- Setembre i octubre"
   ]
  },
  {
   "cell_type": "code",
   "execution_count": 20,
   "id": "f29fa3da",
   "metadata": {},
   "outputs": [
    {
     "name": "stdout",
     "output_type": "stream",
     "text": [
      "· February\n",
      "· ['January', 'February', 'March']\n",
      "· September i October\n"
     ]
    }
   ],
   "source": [
    "print(\"·\", Quarter1[1])\n",
    "print(\"·\", Quarter1)\n",
    "print(\"·\", Quarter3[2], \"i\", Quarter4[0])"
   ]
  },
  {
   "cell_type": "markdown",
   "id": "7ce200dc",
   "metadata": {},
   "source": [
    "### Exercici 3: Crea una llista amb nombres desordenats i respon a les següents preguntes:\n",
    "\n",
    "- Quants números hi ha?\n",
    "- Quantes vegades apareix el número 3\n",
    "- Quantes vegades apareixen els nombres 3 i 4?\n",
    "- Quin és el número més gran?\n",
    "- Quins són els 3 números més petits?\n",
    "- Quin és el rang d’aquesta llista?"
   ]
  },
  {
   "cell_type": "code",
   "execution_count": 54,
   "id": "9ff0366d",
   "metadata": {},
   "outputs": [
    {
     "name": "stdout",
     "output_type": "stream",
     "text": [
      "· Hi ha 33 números.\n",
      "· El número 3 apareix 3 vegades.\n",
      "· Els números 3 i 4 apareixen: 3 i 2 vegades, respectivament.\n",
      "· El número més gran és el 90 .\n",
      "· Els 3 números més petits són  [0, 1, 1] .\n",
      "· El rang d'aquesta llista va de 0 a 90 .\n"
     ]
    }
   ],
   "source": [
    "list=[4,6,8,1,3,0,2,5,7,2,8,9,3,5,11,34,65,87,90,1,2,6,5,4,3,7,8,9,1,14,16,19,20]\n",
    "print(\"· Hi ha\", len(list), \"números.\")\n",
    "\n",
    "print(\"· El número 3 apareix\",(list.count(3)), \"vegades.\")\n",
    "\n",
    "print(\"· Els números 3 i 4 apareixen:\", (list.count(3)), \"i\", (list.count(4)), \"vegades, respectivament.\")\n",
    "\n",
    "print(\"· El número més gran és el\", max(list),\".\")\n",
    "\n",
    "lista_ordenada=sorted(list)\n",
    "print(\"· Els 3 números més petits són \",(lista_ordenada[0:3]), \".\")\n",
    "\n",
    "print(\"· El rang d'aquesta llista va de\", min(lista_ordenada), \"a\", max(lista_ordenada), \".\")"
   ]
  },
  {
   "cell_type": "markdown",
   "id": "c97afab7",
   "metadata": {},
   "source": [
    "### Exercici 4: Crea un diccionari de la següent forma i respon a les preguntes:\n",
    "\n",
    "compra = { \"Pomes\" : {\"Qty\": 5, \"€\": 0.42}, \"Peres\" : {\"Qty\": 3, \"€\": 0.66} }\n",
    "\n",
    "- Afegeix alguna fruita més\n",
    "- Quant han costat les peres en total?\n",
    "- Quantes fruites hem comprat en total?\n",
    "- Quina és la fruita més cara?"
   ]
  },
  {
   "cell_type": "code",
   "execution_count": 11,
   "id": "b711e863",
   "metadata": {
    "ExecuteTime": {
     "end_time": "2021-05-06T08:46:44.842539Z",
     "start_time": "2021-05-06T08:46:44.831445Z"
    }
   },
   "outputs": [
    {
     "name": "stdout",
     "output_type": "stream",
     "text": [
      "· Llista amb un nou element:  {'Pomes': {'Qty': 5, '€': 0.42}, 'Peres': {'Qty': 3, '€': 0.66}, 'Maduixes': {'Qty': 2, '€': 0.37}}\n",
      "· En total, les peres han costat  1.98 .\n",
      "· Hem comprat en total  10 fruites.\n",
      "· La fruita més cara són les  Peres amb un preu de  0.66 .\n"
     ]
    }
   ],
   "source": [
    "compra1= { \"Pomes\" : {\"Qty\": 5, \"€\": 0.42}, \"Peres\" : {\"Qty\": 3, \"€\": 0.66} }\n",
    "compra2= {\"Maduixes\": {\"Qty\": 2, \"€\": 0.37}}\n",
    "compra1.update(compra2)\n",
    "print(\"· Llista amb un nou element: \", compra1)\n",
    "\n",
    "Peres=compra1[\"Peres\"]\n",
    "Result=Peres[\"Qty\"]*Peres[\"€\"]\n",
    "print(\"· En total, les peres han costat \", Result,\".\")\n",
    "\n",
    "fruitamescara=\"\"\n",
    "Total_fruites=0\n",
    "\n",
    "for i in compra1:           \n",
    "    fruita = compra1[i]\n",
    "    Total_fruites += fruita[\"Qty\"]\n",
    "\n",
    "    # Analitza si és la mes cara\n",
    "    if fruitamescara == \"\":\n",
    "        fruitamescara = i\n",
    "    else:\n",
    "        if compra1[fruitamescara][\"€\"] < fruita[\"€\"]:\n",
    "            fruitamescara = i\n",
    "\n",
    "print(\"· Hem comprat en total \", Total_fruites, \"fruites.\")\n",
    "print(\"· La fruita més cara són les \", fruitamescara, \"amb un preu de \", compra1[fruitamescara][\"€\"], \".\")\n"
   ]
  },
  {
   "cell_type": "code",
   "execution_count": null,
   "id": "418c8c15",
   "metadata": {},
   "outputs": [],
   "source": []
  }
 ],
 "metadata": {
  "hide_input": false,
  "kernelspec": {
   "display_name": "Python 3",
   "language": "python",
   "name": "python3"
  },
  "language_info": {
   "codemirror_mode": {
    "name": "ipython",
    "version": 3
   },
   "file_extension": ".py",
   "mimetype": "text/x-python",
   "name": "python",
   "nbconvert_exporter": "python",
   "pygments_lexer": "ipython3",
   "version": "3.9.4"
  },
  "latex_envs": {
   "LaTeX_envs_menu_present": true,
   "autoclose": false,
   "autocomplete": true,
   "bibliofile": "biblio.bib",
   "cite_by": "apalike",
   "current_citInitial": 1,
   "eqLabelWithNumbers": true,
   "eqNumInitial": 1,
   "hotkeys": {
    "equation": "Ctrl-E",
    "itemize": "Ctrl-I"
   },
   "labels_anchors": false,
   "latex_user_defs": false,
   "report_style_numbering": false,
   "user_envs_cfg": false
  },
  "nbTranslate": {
   "displayLangs": [
    "*"
   ],
   "hotkey": "alt-t",
   "langInMainMenu": true,
   "sourceLang": "en",
   "targetLang": "fr",
   "useGoogleTranslate": true
  },
  "toc": {
   "base_numbering": 1,
   "nav_menu": {},
   "number_sections": true,
   "sideBar": true,
   "skip_h1_title": false,
   "title_cell": "Table of Contents",
   "title_sidebar": "Contents",
   "toc_cell": false,
   "toc_position": {},
   "toc_section_display": true,
   "toc_window_display": false
  },
  "varInspector": {
   "cols": {
    "lenName": 16,
    "lenType": 16,
    "lenVar": 40
   },
   "kernels_config": {
    "python": {
     "delete_cmd_postfix": "",
     "delete_cmd_prefix": "del ",
     "library": "var_list.py",
     "varRefreshCmd": "print(var_dic_list())"
    },
    "r": {
     "delete_cmd_postfix": ") ",
     "delete_cmd_prefix": "rm(",
     "library": "var_list.r",
     "varRefreshCmd": "cat(var_dic_list()) "
    }
   },
   "types_to_exclude": [
    "module",
    "function",
    "builtin_function_or_method",
    "instance",
    "_Feature"
   ],
   "window_display": false
  }
 },
 "nbformat": 4,
 "nbformat_minor": 5
}
